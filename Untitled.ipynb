{
  "nbformat": 4,
  "nbformat_minor": 0,
  "metadata": {
    "colab": {
      "name": "Untitled",
      "provenance": [],
      "authorship_tag": "ABX9TyNECftLYG5d3uA0kGLWphTK",
      "include_colab_link": true
    },
    "kernelspec": {
      "name": "python3",
      "display_name": "Python 3"
    },
    "language_info": {
      "name": "python"
    }
  },
  "cells": [
    {
      "cell_type": "markdown",
      "metadata": {
        "id": "view-in-github",
        "colab_type": "text"
      },
      "source": [
        "<a href=\"https://colab.research.google.com/github/why00n/card/blob/main/Untitled.ipynb\" target=\"_parent\"><img src=\"https://colab.research.google.com/assets/colab-badge.svg\" alt=\"Open In Colab\"/></a>"
      ]
    },
    {
      "cell_type": "code",
      "metadata": {
        "colab": {
          "base_uri": "https://localhost:8080/"
        },
        "id": "5PcH-IttHgsZ",
        "outputId": "716afd76-bd58-41f4-ea70-40e0892cc846"
      },
      "source": [
        "from google.colab import drive\n",
        "drive.mount('/content/drive')"
      ],
      "execution_count": null,
      "outputs": [
        {
          "output_type": "stream",
          "text": [
            "Mounted at /content/drive\n"
          ],
          "name": "stdout"
        }
      ]
    },
    {
      "cell_type": "code",
      "metadata": {
        "id": "0cUtRHAOH1zh"
      },
      "source": [
        "import pandas as pd\n",
        "import numpy as np\n",
        "\n",
        "path='/content/drive/MyDrive/creditcard'\n",
        "train=pd.read_csv(path+'/train.csv',sep=',')\n",
        "train=train.drop('index',axis=1)\n",
        "\n",
        "test = pd.read_csv(path+'/test.csv')\n",
        "test = test.drop('index', axis=1)\n",
        "\n",
        "submit = pd.read_csv(path+'/sample_submission.csv')"
      ],
      "execution_count": null,
      "outputs": []
    },
    {
      "cell_type": "code",
      "metadata": {
        "colab": {
          "base_uri": "https://localhost:8080/"
        },
        "id": "jlzBJLLm57oO",
        "outputId": "67a19a48-9d54-4992-aa44-a032b7fd0b32"
      },
      "source": [
        "print(train.columns)\n",
        "print(test.columns)"
      ],
      "execution_count": null,
      "outputs": [
        {
          "output_type": "stream",
          "text": [
            "Index(['gender', 'car', 'reality', 'child_num', 'income_total', 'income_type',\n",
            "       'edu_type', 'family_type', 'house_type', 'DAYS_BIRTH', 'DAYS_EMPLOYED',\n",
            "       'FLAG_MOBIL', 'work_phone', 'phone', 'email', 'occyp_type',\n",
            "       'family_size', 'begin_month', 'credit'],\n",
            "      dtype='object')\n",
            "Index(['gender', 'car', 'reality', 'child_num', 'income_total', 'income_type',\n",
            "       'edu_type', 'family_type', 'house_type', 'DAYS_BIRTH', 'DAYS_EMPLOYED',\n",
            "       'FLAG_MOBIL', 'work_phone', 'phone', 'email', 'occyp_type',\n",
            "       'family_size', 'begin_month'],\n",
            "      dtype='object')\n"
          ],
          "name": "stdout"
        }
      ]
    },
    {
      "cell_type": "markdown",
      "metadata": {
        "id": "DHlCU6tYIHAo"
      },
      "source": [
        "# **preprocessing**\n",
        "\n",
        "*   occyp_type drop\n",
        "*   FLAG_MODIL drop\n",
        "*   numerical value 양수로 변환\n",
        "*   가족 수 보다 자녀 수가 많은 행 제거\n"
      ]
    },
    {
      "cell_type": "code",
      "metadata": {
        "id": "ruqAoTgKH1fF"
      },
      "source": [
        "train=train.drop(['occyp_type','FLAG_MOBIL'], axis=1)\n",
        "train.loc[train['DAYS_EMPLOYED']>0, 'DAYS_EMPLOYED']=0\n",
        "train['DAYS_EMPLOYED']=train['DAYS_EMPLOYED'].abs()\n",
        "train['DAYS_BIRTH']=train['DAYS_BIRTH'].abs()\n",
        "train['begin_month']=train['begin_month'].abs()\n",
        "train=train.drop(train[train['family_size']<train['child_num']].index)"
      ],
      "execution_count": null,
      "outputs": []
    },
    {
      "cell_type": "code",
      "metadata": {
        "id": "kU81Bq2oqt-E"
      },
      "source": [
        "test=test.drop(['occyp_type','FLAG_MOBIL'],axis=1)\n",
        "test.loc[test['DAYS_EMPLOYED']>0, 'DAYS_EMPLOYED']=0\n",
        "test['DAYS_EMPLOYED']=test['DAYS_EMPLOYED'].abs()\n",
        "test['DAYS_BIRTH']=test['DAYS_BIRTH'].abs()\n",
        "test['begin_month']=test['begin_month'].abs()\n",
        "test=test.drop(test[test['family_size']<test['child_num']].index)"
      ],
      "execution_count": null,
      "outputs": []
    },
    {
      "cell_type": "code",
      "metadata": {
        "colab": {
          "base_uri": "https://localhost:8080/"
        },
        "id": "HGNA0RIwreKK",
        "outputId": "02c40edb-f869-466d-82ea-5b47d7c604b7"
      },
      "source": [
        "train.info()"
      ],
      "execution_count": null,
      "outputs": [
        {
          "output_type": "stream",
          "text": [
            "<class 'pandas.core.frame.DataFrame'>\n",
            "Int64Index: 26456 entries, 0 to 26456\n",
            "Data columns (total 17 columns):\n",
            " #   Column         Non-Null Count  Dtype  \n",
            "---  ------         --------------  -----  \n",
            " 0   gender         26456 non-null  object \n",
            " 1   car            26456 non-null  object \n",
            " 2   reality        26456 non-null  object \n",
            " 3   child_num      26456 non-null  int64  \n",
            " 4   income_total   26456 non-null  float64\n",
            " 5   income_type    26456 non-null  object \n",
            " 6   edu_type       26456 non-null  object \n",
            " 7   family_type    26456 non-null  object \n",
            " 8   house_type     26456 non-null  object \n",
            " 9   DAYS_BIRTH     26456 non-null  int64  \n",
            " 10  DAYS_EMPLOYED  26456 non-null  int64  \n",
            " 11  work_phone     26456 non-null  int64  \n",
            " 12  phone          26456 non-null  int64  \n",
            " 13  email          26456 non-null  int64  \n",
            " 14  family_size    26456 non-null  float64\n",
            " 15  begin_month    26456 non-null  float64\n",
            " 16  credit         26456 non-null  float64\n",
            "dtypes: float64(4), int64(6), object(7)\n",
            "memory usage: 3.6+ MB\n"
          ],
          "name": "stdout"
        }
      ]
    },
    {
      "cell_type": "markdown",
      "metadata": {
        "id": "u1kYGLYQ7JRH"
      },
      "source": [
        "# one-hot encoding"
      ]
    },
    {
      "cell_type": "code",
      "metadata": {
        "colab": {
          "base_uri": "https://localhost:8080/"
        },
        "id": "LQ0qjkcLreGk",
        "outputId": "b9845a5c-714b-4100-aa62-c9dbc822fe58"
      },
      "source": [
        "# dtype이 object 타입인 컬럼만 추출 \n",
        "train.select_dtypes(\"object\").columns"
      ],
      "execution_count": null,
      "outputs": [
        {
          "output_type": "execute_result",
          "data": {
            "text/plain": [
              "Index(['gender', 'car', 'reality', 'income_type', 'edu_type', 'family_type',\n",
              "       'house_type'],\n",
              "      dtype='object')"
            ]
          },
          "metadata": {
            "tags": []
          },
          "execution_count": 21
        }
      ]
    },
    {
      "cell_type": "code",
      "metadata": {
        "id": "Qcpkm5RP7b9E"
      },
      "source": [
        "train_dummies=pd.get_dummies(train)\n",
        "test_dummies=pd.get_dummies(test) "
      ],
      "execution_count": null,
      "outputs": []
    },
    {
      "cell_type": "code",
      "metadata": {
        "colab": {
          "base_uri": "https://localhost:8080/"
        },
        "id": "U12kuSAOHKGG",
        "outputId": "afd35ac6-3820-416d-ff03-8c5a68099cbc"
      },
      "source": [
        "train_dummies.columns"
      ],
      "execution_count": null,
      "outputs": [
        {
          "output_type": "execute_result",
          "data": {
            "text/plain": [
              "Index(['child_num', 'income_total', 'DAYS_BIRTH', 'DAYS_EMPLOYED',\n",
              "       'work_phone', 'phone', 'email', 'family_size', 'begin_month', 'credit',\n",
              "       'gender_F', 'gender_M', 'car_N', 'car_Y', 'reality_N', 'reality_Y',\n",
              "       'income_type_Commercial associate', 'income_type_Pensioner',\n",
              "       'income_type_State servant', 'income_type_Student',\n",
              "       'income_type_Working', 'edu_type_Academic degree',\n",
              "       'edu_type_Higher education', 'edu_type_Incomplete higher',\n",
              "       'edu_type_Lower secondary', 'edu_type_Secondary / secondary special',\n",
              "       'family_type_Civil marriage', 'family_type_Married',\n",
              "       'family_type_Separated', 'family_type_Single / not married',\n",
              "       'family_type_Widow', 'house_type_Co-op apartment',\n",
              "       'house_type_House / apartment', 'house_type_Municipal apartment',\n",
              "       'house_type_Office apartment', 'house_type_Rented apartment',\n",
              "       'house_type_With parents'],\n",
              "      dtype='object')"
            ]
          },
          "metadata": {
            "tags": []
          },
          "execution_count": 27
        }
      ]
    },
    {
      "cell_type": "code",
      "metadata": {
        "id": "V3NTvb6n7b5t"
      },
      "source": [
        "from sklearn.model_selection import train_test_split\n",
        "from sklearn.metrics import accuracy_score\n",
        "\n",
        "x=train_dummies.drop(columns='credit')\n",
        "y=train['credit']\n",
        "x_train,x_test,y_train,y_test=train_test_split( x, y,test_size=0.3)"
      ],
      "execution_count": null,
      "outputs": []
    },
    {
      "cell_type": "code",
      "metadata": {
        "colab": {
          "base_uri": "https://localhost:8080/"
        },
        "id": "DHIGq3Ye7anY",
        "outputId": "e281a969-d91e-4051-8bd4-7ea8013202bf"
      },
      "source": [
        "from sklearn.ensemble import RandomForestClassifier\n",
        "rf=RandomForestClassifier()\n",
        "rf.fit(x_train, y_train)\n",
        "\n",
        "pred_train=rf.predict(x_train)\n",
        "pred_test=rf.predict(x_test)\n",
        "acc_train=accuracy_score(y_train,pred_train)\n",
        "acc_test=accuracy_score(y_test,pred_test)\n",
        "\n",
        "print(f'학습: {acc_train}, 테스트:{acc_test}')\n",
        "\n",
        "#y_pred=rf.predict(x_test)\n",
        "#acc=accuracy_score(y_test,y_pred)\n",
        "\n",
        "# 모델 분류 정확도"
      ],
      "execution_count": null,
      "outputs": [
        {
          "output_type": "stream",
          "text": [
            "학습: 0.9799665208704573, 테스트:0.6940909663600857\n"
          ],
          "name": "stdout"
        }
      ]
    },
    {
      "cell_type": "code",
      "metadata": {
        "id": "o1uqMUsb7ajQ"
      },
      "source": [
        ""
      ],
      "execution_count": null,
      "outputs": []
    },
    {
      "cell_type": "code",
      "metadata": {
        "id": "-i4FCU9G7af3"
      },
      "source": [
        ""
      ],
      "execution_count": null,
      "outputs": []
    },
    {
      "cell_type": "code",
      "metadata": {
        "id": "r5hbkVxWrdNh"
      },
      "source": [
        ""
      ],
      "execution_count": null,
      "outputs": []
    },
    {
      "cell_type": "code",
      "metadata": {
        "id": "vO-ZyC5iJkln"
      },
      "source": [
        "train.to_csv(path+ '/train2.csv', sep=',')\n",
        "test.to_csv(path+'.test2.csv',sep=',')"
      ],
      "execution_count": null,
      "outputs": []
    },
    {
      "cell_type": "code",
      "metadata": {
        "id": "dr3GwzaNH1C9"
      },
      "source": [
        ""
      ],
      "execution_count": null,
      "outputs": []
    }
  ]
}