{
  "nbformat": 4,
  "nbformat_minor": 0,
  "metadata": {
    "colab": {
      "name": "lgbm_heeyoon",
      "provenance": [],
      "authorship_tag": "ABX9TyMJuGwnvxSnPunyV7Y0Otmq",
      "include_colab_link": true
    },
    "kernelspec": {
      "name": "python3",
      "display_name": "Python 3"
    },
    "language_info": {
      "name": "python"
    }
  },
  "cells": [
    {
      "cell_type": "markdown",
      "metadata": {
        "id": "view-in-github",
        "colab_type": "text"
      },
      "source": [
        "<a href=\"https://colab.research.google.com/github/why00n/card/blob/main/lgbm_heeyoon.ipynb\" target=\"_parent\"><img src=\"https://colab.research.google.com/assets/colab-badge.svg\" alt=\"Open In Colab\"/></a>"
      ]
    },
    {
      "cell_type": "code",
      "metadata": {
        "colab": {
          "base_uri": "https://localhost:8080/"
        },
        "id": "YXSFqEmvR6xh",
        "outputId": "f9087b1a-32e1-48c7-cd52-e7774321890b"
      },
      "source": [
        "from google.colab import drive\n",
        "drive.mount('/content/drive')"
      ],
      "execution_count": null,
      "outputs": [
        {
          "output_type": "stream",
          "text": [
            "Mounted at /content/drive\n"
          ],
          "name": "stdout"
        }
      ]
    },
    {
      "cell_type": "code",
      "metadata": {
        "id": "uaFTwzC9SDUO"
      },
      "source": [
        "import pandas as pd\n",
        "import numpy as np \n",
        "import matplotlib.pyplot as plt\n",
        "import seaborn as sns\n",
        "\n",
        "path='/content/drive/MyDrive/creditcard'\n",
        "train=pd.read_csv(path+'/train.csv',sep=',')\n",
        "train=train.drop('index',axis=1)\n",
        "\n",
        "test=pd.read_csv(path+'/test.csv', sep=',')\n",
        "test=test.drop('index',axis=1)"
      ],
      "execution_count": null,
      "outputs": []
    },
    {
      "cell_type": "code",
      "metadata": {
        "id": "adbifbXNSDWU"
      },
      "source": [
        "train=train.drop_duplicates(keep='first')\n",
        "test=test.drop_duplicates(keep='first')\n",
        "\n",
        "train=train.drop('FLAG_MOBIL',axis=1)\n",
        "test=test.drop('FLAG_MOBIL',axis=1)\n",
        "\n",
        "train['DAYS_BIRTH']=train['DAYS_BIRTH'].abs()\n",
        "train.loc[(train.DAYS_EMPLOYED > 0 ), 'DAYS_EMPLOYED']=0\n",
        "train['DAYS_EMPLOYED']=train['DAYS_EMPLOYED'].abs()\n",
        "train['begin_month']=train['begin_month'].abs()\n",
        "\n",
        "test['DAYS_BIRTH']=test['DAYS_BIRTH'].abs()\n",
        "test.loc[(test.DAYS_EMPLOYED > 0 ), 'DAYS_EMPLOYED']=0\n",
        "test['DAYS_EMPLOYED']=test['DAYS_EMPLOYED'].abs()\n",
        "test['begin_month']=test['begin_month'].abs() "
      ],
      "execution_count": null,
      "outputs": []
    },
    {
      "cell_type": "code",
      "metadata": {
        "colab": {
          "base_uri": "https://localhost:8080/"
        },
        "id": "GZ3CEkbQSDbO",
        "outputId": "24da4c74-6f5b-4159-e749-43c2518bcad8"
      },
      "source": [
        "from lightgbm import LGBMClassifier\n",
        "from sklearn.ensemble import RandomForestClassifier\n",
        "from sklearn.model_selection import train_test_split\n",
        "from sklearn.metrics import accuracy_score, log_loss, f1_score\n",
        "\n",
        "x=train.drop('credit', axis=1)\n",
        "y=train['credit'].values\n",
        "\n",
        "for i in x.columns:\n",
        "  col_type=x[i].dtype\n",
        "  if col_type == 'object':\n",
        "    x[i]=x[i].astype('category')\n",
        "\n",
        "# train/test split\n",
        "x_train, x_test, y_train, y_test=train_test_split(x, y, test_size=0.2, random_state=101, stratify=y)\n",
        "print('length of X_train and x_test: ', len(x_train), len(x_test))\n",
        "print('length of y_train and y_test: ', len(y_train), len(y_test))\n",
        "\n",
        "# fit a lightGBM model to the data\n",
        "lgb=LGBMClassifier(loss_function= 'Logloss', custom_metric=['Accuracy','AUC'],eval_metric='F1')\n",
        "lgb.fit(x_train, y_train, eval_set=(x_test, y_test), feature_name='auto', categorical_feature='auto', verbose=50)\n",
        "\n",
        "# make prediction\n",
        "x_pred=lgb.predict(x_train)\n",
        "y_pred=lgb.predict(x_test)\n",
        "\n",
        "acc_train=accuracy_score(y_train, x_pred)\n",
        "acc_test=accuracy_score(y_test, y_pred)\n",
        "\n",
        "print(f'학습: {acc_train}, 테스트:{acc_test}')\n",
        "# prediction of accuracy"
      ],
      "execution_count": null,
      "outputs": [
        {
          "output_type": "stream",
          "text": [
            "length of X_train and x_test:  19858 4965\n",
            "length of y_train and y_test:  19858 4965\n",
            "[50]\tvalid_0's multi_logloss: 0.787344\n",
            "[100]\tvalid_0's multi_logloss: 0.774895\n",
            "학습: 0.7092859301037365, 테스트:0.694662638469285\n"
          ],
          "name": "stdout"
        }
      ]
    },
    {
      "cell_type": "code",
      "metadata": {
        "colab": {
          "base_uri": "https://localhost:8080/"
        },
        "id": "T48S6hICoJYM",
        "outputId": "9393749e-8285-4f88-d2e6-ac720a4273fe"
      },
      "source": [
        "log_loss(y_train, lgb.predict_proba(x_train))\n",
        "log_loss(y_test,lgb.predict_proba(x_test))"
      ],
      "execution_count": null,
      "outputs": [
        {
          "output_type": "execute_result",
          "data": {
            "text/plain": [
              "0.7748946839602812"
            ]
          },
          "metadata": {
            "tags": []
          },
          "execution_count": 23
        }
      ]
    },
    {
      "cell_type": "code",
      "metadata": {
        "colab": {
          "base_uri": "https://localhost:8080/",
          "height": 374
        },
        "id": "9n8Obe9GSDdX",
        "outputId": "031049d3-e6b0-4aa6-a314-4dc7a7311c42"
      },
      "source": [
        "from sklearn.inspection import permutation_importance\n",
        "\n",
        "feat_imp=pd.Series(lgb.feature_importances_, index=x.columns)\n",
        "feat_imp.nlargest(30).plot(kind='barh', figsize=(8,6))\n",
        "plt.show()"
      ],
      "execution_count": null,
      "outputs": [
        {
          "output_type": "display_data",
          "data": {
            "image/png": "[encoded data removed]",
            "text/plain": [
              "<Figure size 576x432 with 1 Axes>"
            ]
          },
          "metadata": {
            "tags": [],
            "needs_background": "light"
          }
        }
      ]
    },
    {
      "cell_type": "code",
      "metadata": {
        "id": "lm1vwMLqSDfm"
      },
      "source": [
        ""
      ],
      "execution_count": null,
      "outputs": []
    },
    {
      "cell_type": "code",
      "metadata": {
        "id": "sLLvbau0SDhz"
      },
      "source": [
        ""
      ],
      "execution_count": null,
      "outputs": []
    },
    {
      "cell_type": "code",
      "metadata": {
        "id": "eoEAv7O5SDjv"
      },
      "source": [
        ""
      ],
      "execution_count": null,
      "outputs": []
    },
    {
      "cell_type": "code",
      "metadata": {
        "id": "8DueI6C-SDmf"
      },
      "source": [
        ""
      ],
      "execution_count": null,
      "outputs": []
    },
    {
      "cell_type": "code",
      "metadata": {
        "id": "IbcyZvq-SDoj"
      },
      "source": [
        ""
      ],
      "execution_count": null,
      "outputs": []
    },
    {
      "cell_type": "code",
      "metadata": {
        "id": "F-dDG41JSDqw"
      },
      "source": [
        ""
      ],
      "execution_count": null,
      "outputs": []
    },
    {
      "cell_type": "code",
      "metadata": {
        "id": "pcdECRduSDsv"
      },
      "source": [
        ""
      ],
      "execution_count": null,
      "outputs": []
    },
    {
      "cell_type": "code",
      "metadata": {
        "id": "Mc1AOqA5SDum"
      },
      "source": [
        ""
      ],
      "execution_count": null,
      "outputs": []
    },
    {
      "cell_type": "code",
      "metadata": {
        "id": "QSdRAm_gSDx_"
      },
      "source": [
        ""
      ],
      "execution_count": null,
      "outputs": []
    }
  ]
}